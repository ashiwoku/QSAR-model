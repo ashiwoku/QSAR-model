{
 "cells": [
  {
   "cell_type": "code",
   "execution_count": 1,
   "id": "excellent-thanksgiving",
   "metadata": {},
   "outputs": [],
   "source": [
    "## import packages and data \n",
    "import pandas as pd\n",
    "class_data = pd.read_csv('classification_model_data.csv')"
   ]
  },
  {
   "cell_type": "code",
   "execution_count": 2,
   "id": "detailed-technique",
   "metadata": {},
   "outputs": [
    {
     "data": {
      "text/html": [
       "<div>\n",
       "<style scoped>\n",
       "    .dataframe tbody tr th:only-of-type {\n",
       "        vertical-align: middle;\n",
       "    }\n",
       "\n",
       "    .dataframe tbody tr th {\n",
       "        vertical-align: top;\n",
       "    }\n",
       "\n",
       "    .dataframe thead th {\n",
       "        text-align: right;\n",
       "    }\n",
       "</style>\n",
       "<table border=\"1\" class=\"dataframe\">\n",
       "  <thead>\n",
       "    <tr style=\"text-align: right;\">\n",
       "      <th></th>\n",
       "      <th>Unnamed: 0</th>\n",
       "      <th>naAromAtom</th>\n",
       "      <th>nAtom</th>\n",
       "      <th>nN</th>\n",
       "      <th>nO</th>\n",
       "      <th>nS</th>\n",
       "      <th>nF</th>\n",
       "      <th>BCUTw.1h</th>\n",
       "      <th>BCUTp.1l</th>\n",
       "      <th>nBondsD</th>\n",
       "      <th>...</th>\n",
       "      <th>R_TpiPCTPC</th>\n",
       "      <th>n5Ring</th>\n",
       "      <th>n6Ring</th>\n",
       "      <th>nF9Ring</th>\n",
       "      <th>nF10Ring</th>\n",
       "      <th>nFG12Ring</th>\n",
       "      <th>n6HeteroRing</th>\n",
       "      <th>VE3_D</th>\n",
       "      <th>VR1_D</th>\n",
       "      <th>class_label</th>\n",
       "    </tr>\n",
       "  </thead>\n",
       "  <tbody>\n",
       "    <tr>\n",
       "      <th>0</th>\n",
       "      <td>1</td>\n",
       "      <td>18</td>\n",
       "      <td>67</td>\n",
       "      <td>1</td>\n",
       "      <td>1</td>\n",
       "      <td>0</td>\n",
       "      <td>0</td>\n",
       "      <td>15.994923</td>\n",
       "      <td>6.656434</td>\n",
       "      <td>0</td>\n",
       "      <td>...</td>\n",
       "      <td>6.373533</td>\n",
       "      <td>0</td>\n",
       "      <td>5</td>\n",
       "      <td>0</td>\n",
       "      <td>1</td>\n",
       "      <td>0</td>\n",
       "      <td>1</td>\n",
       "      <td>-17.743103</td>\n",
       "      <td>432.667502</td>\n",
       "      <td>1</td>\n",
       "    </tr>\n",
       "    <tr>\n",
       "      <th>1</th>\n",
       "      <td>2</td>\n",
       "      <td>24</td>\n",
       "      <td>95</td>\n",
       "      <td>3</td>\n",
       "      <td>9</td>\n",
       "      <td>0</td>\n",
       "      <td>2</td>\n",
       "      <td>18.999422</td>\n",
       "      <td>4.235250</td>\n",
       "      <td>5</td>\n",
       "      <td>...</td>\n",
       "      <td>5.225156</td>\n",
       "      <td>0</td>\n",
       "      <td>4</td>\n",
       "      <td>0</td>\n",
       "      <td>0</td>\n",
       "      <td>0</td>\n",
       "      <td>0</td>\n",
       "      <td>-11.027942</td>\n",
       "      <td>676.229552</td>\n",
       "      <td>1</td>\n",
       "    </tr>\n",
       "    <tr>\n",
       "      <th>2</th>\n",
       "      <td>3</td>\n",
       "      <td>18</td>\n",
       "      <td>101</td>\n",
       "      <td>3</td>\n",
       "      <td>9</td>\n",
       "      <td>0</td>\n",
       "      <td>2</td>\n",
       "      <td>18.999422</td>\n",
       "      <td>4.235268</td>\n",
       "      <td>5</td>\n",
       "      <td>...</td>\n",
       "      <td>4.295698</td>\n",
       "      <td>0</td>\n",
       "      <td>4</td>\n",
       "      <td>0</td>\n",
       "      <td>0</td>\n",
       "      <td>0</td>\n",
       "      <td>0</td>\n",
       "      <td>-11.027942</td>\n",
       "      <td>676.229552</td>\n",
       "      <td>1</td>\n",
       "    </tr>\n",
       "    <tr>\n",
       "      <th>3</th>\n",
       "      <td>4</td>\n",
       "      <td>18</td>\n",
       "      <td>101</td>\n",
       "      <td>3</td>\n",
       "      <td>9</td>\n",
       "      <td>0</td>\n",
       "      <td>2</td>\n",
       "      <td>18.999422</td>\n",
       "      <td>4.235268</td>\n",
       "      <td>5</td>\n",
       "      <td>...</td>\n",
       "      <td>4.295698</td>\n",
       "      <td>0</td>\n",
       "      <td>4</td>\n",
       "      <td>0</td>\n",
       "      <td>0</td>\n",
       "      <td>0</td>\n",
       "      <td>0</td>\n",
       "      <td>-11.027942</td>\n",
       "      <td>676.229552</td>\n",
       "      <td>2</td>\n",
       "    </tr>\n",
       "    <tr>\n",
       "      <th>4</th>\n",
       "      <td>5</td>\n",
       "      <td>10</td>\n",
       "      <td>96</td>\n",
       "      <td>3</td>\n",
       "      <td>9</td>\n",
       "      <td>0</td>\n",
       "      <td>0</td>\n",
       "      <td>16.003008</td>\n",
       "      <td>4.686416</td>\n",
       "      <td>5</td>\n",
       "      <td>...</td>\n",
       "      <td>3.907792</td>\n",
       "      <td>0</td>\n",
       "      <td>3</td>\n",
       "      <td>0</td>\n",
       "      <td>1</td>\n",
       "      <td>0</td>\n",
       "      <td>0</td>\n",
       "      <td>-22.814477</td>\n",
       "      <td>664.521515</td>\n",
       "      <td>2</td>\n",
       "    </tr>\n",
       "    <tr>\n",
       "      <th>...</th>\n",
       "      <td>...</td>\n",
       "      <td>...</td>\n",
       "      <td>...</td>\n",
       "      <td>...</td>\n",
       "      <td>...</td>\n",
       "      <td>...</td>\n",
       "      <td>...</td>\n",
       "      <td>...</td>\n",
       "      <td>...</td>\n",
       "      <td>...</td>\n",
       "      <td>...</td>\n",
       "      <td>...</td>\n",
       "      <td>...</td>\n",
       "      <td>...</td>\n",
       "      <td>...</td>\n",
       "      <td>...</td>\n",
       "      <td>...</td>\n",
       "      <td>...</td>\n",
       "      <td>...</td>\n",
       "      <td>...</td>\n",
       "      <td>...</td>\n",
       "    </tr>\n",
       "    <tr>\n",
       "      <th>6536</th>\n",
       "      <td>6537</td>\n",
       "      <td>18</td>\n",
       "      <td>43</td>\n",
       "      <td>5</td>\n",
       "      <td>3</td>\n",
       "      <td>0</td>\n",
       "      <td>0</td>\n",
       "      <td>34.970157</td>\n",
       "      <td>5.262839</td>\n",
       "      <td>2</td>\n",
       "      <td>...</td>\n",
       "      <td>6.528826</td>\n",
       "      <td>1</td>\n",
       "      <td>4</td>\n",
       "      <td>0</td>\n",
       "      <td>2</td>\n",
       "      <td>1</td>\n",
       "      <td>3</td>\n",
       "      <td>-3.209592</td>\n",
       "      <td>324.625997</td>\n",
       "      <td>1</td>\n",
       "    </tr>\n",
       "    <tr>\n",
       "      <th>6537</th>\n",
       "      <td>6538</td>\n",
       "      <td>18</td>\n",
       "      <td>56</td>\n",
       "      <td>4</td>\n",
       "      <td>3</td>\n",
       "      <td>0</td>\n",
       "      <td>0</td>\n",
       "      <td>15.996941</td>\n",
       "      <td>5.125397</td>\n",
       "      <td>2</td>\n",
       "      <td>...</td>\n",
       "      <td>9.709851</td>\n",
       "      <td>1</td>\n",
       "      <td>5</td>\n",
       "      <td>0</td>\n",
       "      <td>2</td>\n",
       "      <td>1</td>\n",
       "      <td>4</td>\n",
       "      <td>-6.752213</td>\n",
       "      <td>738.417527</td>\n",
       "      <td>1</td>\n",
       "    </tr>\n",
       "    <tr>\n",
       "      <th>6538</th>\n",
       "      <td>6539</td>\n",
       "      <td>18</td>\n",
       "      <td>56</td>\n",
       "      <td>4</td>\n",
       "      <td>3</td>\n",
       "      <td>0</td>\n",
       "      <td>0</td>\n",
       "      <td>15.996941</td>\n",
       "      <td>5.125373</td>\n",
       "      <td>2</td>\n",
       "      <td>...</td>\n",
       "      <td>9.709851</td>\n",
       "      <td>1</td>\n",
       "      <td>5</td>\n",
       "      <td>0</td>\n",
       "      <td>2</td>\n",
       "      <td>1</td>\n",
       "      <td>4</td>\n",
       "      <td>-6.752213</td>\n",
       "      <td>738.417527</td>\n",
       "      <td>1</td>\n",
       "    </tr>\n",
       "    <tr>\n",
       "      <th>6539</th>\n",
       "      <td>6540</td>\n",
       "      <td>24</td>\n",
       "      <td>53</td>\n",
       "      <td>5</td>\n",
       "      <td>2</td>\n",
       "      <td>0</td>\n",
       "      <td>1</td>\n",
       "      <td>18.998409</td>\n",
       "      <td>4.119742</td>\n",
       "      <td>1</td>\n",
       "      <td>...</td>\n",
       "      <td>12.045330</td>\n",
       "      <td>1</td>\n",
       "      <td>5</td>\n",
       "      <td>0</td>\n",
       "      <td>2</td>\n",
       "      <td>1</td>\n",
       "      <td>4</td>\n",
       "      <td>-7.820949</td>\n",
       "      <td>565.660388</td>\n",
       "      <td>1</td>\n",
       "    </tr>\n",
       "    <tr>\n",
       "      <th>6540</th>\n",
       "      <td>6541</td>\n",
       "      <td>18</td>\n",
       "      <td>60</td>\n",
       "      <td>4</td>\n",
       "      <td>3</td>\n",
       "      <td>0</td>\n",
       "      <td>0</td>\n",
       "      <td>15.996943</td>\n",
       "      <td>5.732930</td>\n",
       "      <td>2</td>\n",
       "      <td>...</td>\n",
       "      <td>9.870004</td>\n",
       "      <td>1</td>\n",
       "      <td>5</td>\n",
       "      <td>0</td>\n",
       "      <td>2</td>\n",
       "      <td>1</td>\n",
       "      <td>4</td>\n",
       "      <td>-5.054996</td>\n",
       "      <td>471.158020</td>\n",
       "      <td>1</td>\n",
       "    </tr>\n",
       "  </tbody>\n",
       "</table>\n",
       "<p>6541 rows × 34 columns</p>\n",
       "</div>"
      ],
      "text/plain": [
       "      Unnamed: 0  naAromAtom  nAtom  nN  nO  nS  nF   BCUTw.1h  BCUTp.1l  \\\n",
       "0              1          18     67   1   1   0   0  15.994923  6.656434   \n",
       "1              2          24     95   3   9   0   2  18.999422  4.235250   \n",
       "2              3          18    101   3   9   0   2  18.999422  4.235268   \n",
       "3              4          18    101   3   9   0   2  18.999422  4.235268   \n",
       "4              5          10     96   3   9   0   0  16.003008  4.686416   \n",
       "...          ...         ...    ...  ..  ..  ..  ..        ...       ...   \n",
       "6536        6537          18     43   5   3   0   0  34.970157  5.262839   \n",
       "6537        6538          18     56   4   3   0   0  15.996941  5.125397   \n",
       "6538        6539          18     56   4   3   0   0  15.996941  5.125373   \n",
       "6539        6540          24     53   5   2   0   1  18.998409  4.119742   \n",
       "6540        6541          18     60   4   3   0   0  15.996943  5.732930   \n",
       "\n",
       "      nBondsD  ...  R_TpiPCTPC  n5Ring  n6Ring  nF9Ring  nF10Ring  nFG12Ring  \\\n",
       "0           0  ...    6.373533       0       5        0         1          0   \n",
       "1           5  ...    5.225156       0       4        0         0          0   \n",
       "2           5  ...    4.295698       0       4        0         0          0   \n",
       "3           5  ...    4.295698       0       4        0         0          0   \n",
       "4           5  ...    3.907792       0       3        0         1          0   \n",
       "...       ...  ...         ...     ...     ...      ...       ...        ...   \n",
       "6536        2  ...    6.528826       1       4        0         2          1   \n",
       "6537        2  ...    9.709851       1       5        0         2          1   \n",
       "6538        2  ...    9.709851       1       5        0         2          1   \n",
       "6539        1  ...   12.045330       1       5        0         2          1   \n",
       "6540        2  ...    9.870004       1       5        0         2          1   \n",
       "\n",
       "      n6HeteroRing      VE3_D       VR1_D  class_label  \n",
       "0                1 -17.743103  432.667502            1  \n",
       "1                0 -11.027942  676.229552            1  \n",
       "2                0 -11.027942  676.229552            1  \n",
       "3                0 -11.027942  676.229552            2  \n",
       "4                0 -22.814477  664.521515            2  \n",
       "...            ...        ...         ...          ...  \n",
       "6536             3  -3.209592  324.625997            1  \n",
       "6537             4  -6.752213  738.417527            1  \n",
       "6538             4  -6.752213  738.417527            1  \n",
       "6539             4  -7.820949  565.660388            1  \n",
       "6540             4  -5.054996  471.158020            1  \n",
       "\n",
       "[6541 rows x 34 columns]"
      ]
     },
     "execution_count": 2,
     "metadata": {},
     "output_type": "execute_result"
    }
   ],
   "source": [
    "class_data"
   ]
  },
  {
   "cell_type": "code",
   "execution_count": 3,
   "id": "incredible-hormone",
   "metadata": {},
   "outputs": [],
   "source": [
    "class_data.drop(columns='Unnamed: 0', inplace=True)"
   ]
  },
  {
   "cell_type": "code",
   "execution_count": 4,
   "id": "velvet-mistress",
   "metadata": {},
   "outputs": [],
   "source": [
    "class_data['class_label'].replace({1:0,2:1}, inplace=True)"
   ]
  },
  {
   "cell_type": "code",
   "execution_count": 5,
   "id": "healthy-democracy",
   "metadata": {},
   "outputs": [],
   "source": [
    "X = class_data.drop(columns='class_label')\n",
    "y = class_data['class_label']"
   ]
  },
  {
   "cell_type": "code",
   "execution_count": 6,
   "id": "attended-password",
   "metadata": {},
   "outputs": [
    {
     "data": {
      "text/plain": [
       "0    5590\n",
       "1     951\n",
       "Name: class_label, dtype: int64"
      ]
     },
     "execution_count": 6,
     "metadata": {},
     "output_type": "execute_result"
    }
   ],
   "source": [
    "y.value_counts()"
   ]
  },
  {
   "cell_type": "code",
   "execution_count": 7,
   "id": "played-appraisal",
   "metadata": {},
   "outputs": [],
   "source": [
    "## Split data into train and test sets. \n",
    "from sklearn.model_selection import train_test_split\n",
    "X_train,X_test,y_train,y_test = train_test_split(X,y,test_size=0.25,stratify=y, random_state=44)"
   ]
  },
  {
   "cell_type": "markdown",
   "id": "swedish-caution",
   "metadata": {},
   "source": [
    "## Random Forest Classifier - Classification"
   ]
  },
  {
   "cell_type": "code",
   "execution_count": 8,
   "id": "innocent-minutes",
   "metadata": {},
   "outputs": [],
   "source": [
    "## First run a random forest model.\n",
    "from sklearn.ensemble import RandomForestClassifier"
   ]
  },
  {
   "cell_type": "code",
   "execution_count": 9,
   "id": "stock-matrix",
   "metadata": {},
   "outputs": [],
   "source": [
    "forest = RandomForestClassifier(n_estimators=150, random_state=42)"
   ]
  },
  {
   "cell_type": "code",
   "execution_count": 10,
   "id": "seven-heavy",
   "metadata": {},
   "outputs": [
    {
     "data": {
      "text/plain": [
       "RandomForestClassifier(n_estimators=150, random_state=42)"
      ]
     },
     "execution_count": 10,
     "metadata": {},
     "output_type": "execute_result"
    }
   ],
   "source": [
    "forest.fit(X_train, y_train)"
   ]
  },
  {
   "cell_type": "code",
   "execution_count": 11,
   "id": "pharmaceutical-recorder",
   "metadata": {},
   "outputs": [],
   "source": [
    "predictions = forest.predict(X_test)"
   ]
  },
  {
   "cell_type": "code",
   "execution_count": 12,
   "id": "loaded-plymouth",
   "metadata": {},
   "outputs": [],
   "source": [
    "from sklearn.metrics import accuracy_score, confusion_matrix, classification_report, mean_squared_error"
   ]
  },
  {
   "cell_type": "code",
   "execution_count": 13,
   "id": "touched-priest",
   "metadata": {},
   "outputs": [
    {
     "data": {
      "text/plain": [
       "0.9284841075794621"
      ]
     },
     "execution_count": 13,
     "metadata": {},
     "output_type": "execute_result"
    }
   ],
   "source": [
    "accuracy_score(y_test, predictions)"
   ]
  },
  {
   "cell_type": "code",
   "execution_count": 14,
   "id": "interracial-israel",
   "metadata": {},
   "outputs": [],
   "source": [
    "### The random Forest achieves a 93% accuracy score on the classification dataset. \n",
    "### Issues: this is only a binary classification, with severe class imbalance."
   ]
  },
  {
   "cell_type": "code",
   "execution_count": 15,
   "id": "advanced-dispute",
   "metadata": {},
   "outputs": [
    {
     "data": {
      "text/plain": [
       "array([[1372,   26],\n",
       "       [  91,  147]], dtype=int64)"
      ]
     },
     "execution_count": 15,
     "metadata": {},
     "output_type": "execute_result"
    }
   ],
   "source": [
    "confusion_matrix(y_test, predictions)"
   ]
  },
  {
   "cell_type": "code",
   "execution_count": 16,
   "id": "motivated-guarantee",
   "metadata": {},
   "outputs": [
    {
     "name": "stdout",
     "output_type": "stream",
     "text": [
      "              precision    recall  f1-score   support\n",
      "\n",
      "           0       0.94      0.98      0.96      1398\n",
      "           1       0.85      0.62      0.72       238\n",
      "\n",
      "    accuracy                           0.93      1636\n",
      "   macro avg       0.89      0.80      0.84      1636\n",
      "weighted avg       0.92      0.93      0.92      1636\n",
      "\n"
     ]
    }
   ],
   "source": [
    "print(classification_report(y_test, predictions))"
   ]
  },
  {
   "cell_type": "code",
   "execution_count": 17,
   "id": "eleven-decision",
   "metadata": {},
   "outputs": [],
   "source": [
    "## Classification report shows a better diagnosis of the model. By analyzing the recall score, the recall score of the \n",
    "## minority class is concerning. The model was only able to recognize 62% of inactive compunds. To remedy this issue, lets\n",
    "## implemenet SMOTE analysis to generate sample of the minority class. "
   ]
  },
  {
   "cell_type": "code",
   "execution_count": 18,
   "id": "experimental-perception",
   "metadata": {},
   "outputs": [],
   "source": [
    "from imblearn.over_sampling import SMOTE \n",
    "sm = SMOTE(random_state=42)\n",
    "X_train_res, y_train_res = sm.fit_resample(X_train,y_train)"
   ]
  },
  {
   "cell_type": "code",
   "execution_count": 19,
   "id": "lasting-commercial",
   "metadata": {},
   "outputs": [
    {
     "data": {
      "text/plain": [
       "RandomForestClassifier(n_estimators=150, random_state=42)"
      ]
     },
     "execution_count": 19,
     "metadata": {},
     "output_type": "execute_result"
    }
   ],
   "source": [
    "forest_2 = RandomForestClassifier(n_estimators=150, random_state=42)\n",
    "forest_2.fit(X_train_res, y_train_res)"
   ]
  },
  {
   "cell_type": "code",
   "execution_count": 20,
   "id": "bulgarian-dublin",
   "metadata": {},
   "outputs": [
    {
     "data": {
      "text/plain": [
       "1    4192\n",
       "0    4192\n",
       "Name: class_label, dtype: int64"
      ]
     },
     "execution_count": 20,
     "metadata": {},
     "output_type": "execute_result"
    }
   ],
   "source": [
    "y_train_res.value_counts() ## New dataset is now balanced."
   ]
  },
  {
   "cell_type": "code",
   "execution_count": 21,
   "id": "familiar-aspect",
   "metadata": {},
   "outputs": [],
   "source": [
    "predictions = forest_2.predict(X_test)"
   ]
  },
  {
   "cell_type": "code",
   "execution_count": 22,
   "id": "married-bundle",
   "metadata": {},
   "outputs": [
    {
     "data": {
      "text/plain": [
       "array([[1340,   58],\n",
       "       [  71,  167]], dtype=int64)"
      ]
     },
     "execution_count": 22,
     "metadata": {},
     "output_type": "execute_result"
    }
   ],
   "source": [
    "confusion_matrix(y_test, predictions)"
   ]
  },
  {
   "cell_type": "code",
   "execution_count": 23,
   "id": "similar-foster",
   "metadata": {},
   "outputs": [
    {
     "name": "stdout",
     "output_type": "stream",
     "text": [
      "              precision    recall  f1-score   support\n",
      "\n",
      "           0       0.95      0.96      0.95      1398\n",
      "           1       0.74      0.70      0.72       238\n",
      "\n",
      "    accuracy                           0.92      1636\n",
      "   macro avg       0.85      0.83      0.84      1636\n",
      "weighted avg       0.92      0.92      0.92      1636\n",
      "\n"
     ]
    }
   ],
   "source": [
    "print(classification_report(y_test, predictions))"
   ]
  },
  {
   "cell_type": "code",
   "execution_count": 24,
   "id": "compound-apollo",
   "metadata": {},
   "outputs": [],
   "source": [
    "### Even though the model has slightly lower precision, the recall for the minority class is much improved, which means\n",
    "### this model was betetr at recognizing the minorty label. "
   ]
  },
  {
   "cell_type": "markdown",
   "id": "sharing-prairie",
   "metadata": {},
   "source": [
    "## Logistic Regression - Classification"
   ]
  },
  {
   "cell_type": "code",
   "execution_count": 25,
   "id": "systematic-victim",
   "metadata": {},
   "outputs": [
    {
     "data": {
      "text/plain": [
       "LogisticRegression(random_state=42)"
      ]
     },
     "execution_count": 25,
     "metadata": {},
     "output_type": "execute_result"
    }
   ],
   "source": [
    "## next model is the logistic regression.\n",
    "from sklearn.linear_model import LogisticRegression\n",
    "lr = LogisticRegression(random_state=42)\n",
    "lr.fit(X_train,y_train)"
   ]
  },
  {
   "cell_type": "code",
   "execution_count": 26,
   "id": "dependent-vampire",
   "metadata": {},
   "outputs": [],
   "source": [
    "predictions = lr.predict(X_test)"
   ]
  },
  {
   "cell_type": "code",
   "execution_count": 27,
   "id": "danish-poultry",
   "metadata": {},
   "outputs": [
    {
     "data": {
      "text/plain": [
       "0.8545232273838631"
      ]
     },
     "execution_count": 27,
     "metadata": {},
     "output_type": "execute_result"
    }
   ],
   "source": [
    "accuracy_score(y_test, predictions)"
   ]
  },
  {
   "cell_type": "code",
   "execution_count": 28,
   "id": "joined-albania",
   "metadata": {},
   "outputs": [],
   "source": [
    "## The logistic regression achieved an accuracy score of 85%"
   ]
  },
  {
   "cell_type": "code",
   "execution_count": 29,
   "id": "painful-tourism",
   "metadata": {},
   "outputs": [
    {
     "data": {
      "text/plain": [
       "array([[1397,    1],\n",
       "       [ 237,    1]], dtype=int64)"
      ]
     },
     "execution_count": 29,
     "metadata": {},
     "output_type": "execute_result"
    }
   ],
   "source": [
    "confusion_matrix(y_test, predictions)"
   ]
  },
  {
   "cell_type": "code",
   "execution_count": 30,
   "id": "automated-mathematics",
   "metadata": {},
   "outputs": [
    {
     "name": "stdout",
     "output_type": "stream",
     "text": [
      "              precision    recall  f1-score   support\n",
      "\n",
      "           0       0.85      1.00      0.92      1398\n",
      "           1       0.50      0.00      0.01       238\n",
      "\n",
      "    accuracy                           0.85      1636\n",
      "   macro avg       0.68      0.50      0.46      1636\n",
      "weighted avg       0.80      0.85      0.79      1636\n",
      "\n"
     ]
    }
   ],
   "source": [
    "print(classification_report(y_test, predictions))"
   ]
  },
  {
   "cell_type": "code",
   "execution_count": 31,
   "id": "funded-brass",
   "metadata": {},
   "outputs": [],
   "source": [
    "## now implement SMOTE analysis."
   ]
  },
  {
   "cell_type": "code",
   "execution_count": 32,
   "id": "caroline-execution",
   "metadata": {},
   "outputs": [
    {
     "data": {
      "text/plain": [
       "LogisticRegression(random_state=42)"
      ]
     },
     "execution_count": 32,
     "metadata": {},
     "output_type": "execute_result"
    }
   ],
   "source": [
    "lr_2 = LogisticRegression(random_state=42)\n",
    "lr_2.fit(X_train_res,y_train_res)"
   ]
  },
  {
   "cell_type": "code",
   "execution_count": 33,
   "id": "average-granny",
   "metadata": {},
   "outputs": [],
   "source": [
    "predictions = lr_2.predict(X_test)"
   ]
  },
  {
   "cell_type": "code",
   "execution_count": 34,
   "id": "potential-excitement",
   "metadata": {},
   "outputs": [
    {
     "name": "stdout",
     "output_type": "stream",
     "text": [
      "              precision    recall  f1-score   support\n",
      "\n",
      "           0       0.87      0.96      0.91      1398\n",
      "           1       0.39      0.16      0.23       238\n",
      "\n",
      "    accuracy                           0.84      1636\n",
      "   macro avg       0.63      0.56      0.57      1636\n",
      "weighted avg       0.80      0.84      0.81      1636\n",
      "\n"
     ]
    }
   ],
   "source": [
    "print(classification_report(y_test, predictions))"
   ]
  },
  {
   "cell_type": "code",
   "execution_count": 35,
   "id": "dated-baseline",
   "metadata": {},
   "outputs": [],
   "source": [
    "### We still see very poor performance using the Logistic Regression model. The minority class "
   ]
  },
  {
   "cell_type": "code",
   "execution_count": 36,
   "id": "light-alberta",
   "metadata": {},
   "outputs": [
    {
     "data": {
      "text/plain": [
       "array([[1338,   60],\n",
       "       [ 200,   38]], dtype=int64)"
      ]
     },
     "execution_count": 36,
     "metadata": {},
     "output_type": "execute_result"
    }
   ],
   "source": [
    "confusion_matrix(y_test, predictions)"
   ]
  },
  {
   "cell_type": "markdown",
   "id": "hawaiian-arena",
   "metadata": {},
   "source": [
    "## Support Vector Machines - Classification"
   ]
  },
  {
   "cell_type": "code",
   "execution_count": 37,
   "id": "considerable-yellow",
   "metadata": {},
   "outputs": [],
   "source": [
    "## next model: Support Vector Machines \n",
    "from sklearn.svm import SVC\n",
    "from sklearn.preprocessing import StandardScaler\n",
    "from sklearn.pipeline import make_pipeline\n",
    "clf = make_pipeline(StandardScaler(), SVC(kernel='poly', random_state=42))\n",
    "clf.fit(X_train,y_train)\n",
    "predictions = clf.predict(X_test)"
   ]
  },
  {
   "cell_type": "code",
   "execution_count": 38,
   "id": "current-witch",
   "metadata": {},
   "outputs": [
    {
     "data": {
      "text/plain": [
       "0.9083129584352079"
      ]
     },
     "execution_count": 38,
     "metadata": {},
     "output_type": "execute_result"
    }
   ],
   "source": [
    "accuracy_score(y_test, predictions)"
   ]
  },
  {
   "cell_type": "code",
   "execution_count": 39,
   "id": "joint-allergy",
   "metadata": {},
   "outputs": [],
   "source": [
    "## The support Vector Machine achieved an accuracy score of 91%. "
   ]
  },
  {
   "cell_type": "code",
   "execution_count": 40,
   "id": "qualified-involvement",
   "metadata": {},
   "outputs": [
    {
     "data": {
      "text/plain": [
       "array([[1378,   20],\n",
       "       [ 130,  108]], dtype=int64)"
      ]
     },
     "execution_count": 40,
     "metadata": {},
     "output_type": "execute_result"
    }
   ],
   "source": [
    "confusion_matrix(y_test, predictions)"
   ]
  },
  {
   "cell_type": "code",
   "execution_count": 41,
   "id": "israeli-albert",
   "metadata": {},
   "outputs": [
    {
     "name": "stdout",
     "output_type": "stream",
     "text": [
      "              precision    recall  f1-score   support\n",
      "\n",
      "           0       0.91      0.99      0.95      1398\n",
      "           1       0.84      0.45      0.59       238\n",
      "\n",
      "    accuracy                           0.91      1636\n",
      "   macro avg       0.88      0.72      0.77      1636\n",
      "weighted avg       0.90      0.91      0.90      1636\n",
      "\n"
     ]
    }
   ],
   "source": [
    "print(classification_report(y_test, predictions))"
   ]
  },
  {
   "cell_type": "code",
   "execution_count": 42,
   "id": "differential-division",
   "metadata": {},
   "outputs": [],
   "source": [
    "## Still very poor scores for the minority class using the Support Vector Machine. lets rety using a complete dataset."
   ]
  },
  {
   "cell_type": "code",
   "execution_count": 43,
   "id": "exotic-probe",
   "metadata": {},
   "outputs": [],
   "source": [
    "clf_2 = make_pipeline(StandardScaler(), SVC(kernel='poly', random_state=42))\n",
    "clf_2.fit(X_train_res,y_train_res)\n",
    "predictions = clf_2.predict(X_test)"
   ]
  },
  {
   "cell_type": "code",
   "execution_count": 44,
   "id": "frequent-pledge",
   "metadata": {},
   "outputs": [
    {
     "data": {
      "text/plain": [
       "array([[1287,  111],\n",
       "       [  83,  155]], dtype=int64)"
      ]
     },
     "execution_count": 44,
     "metadata": {},
     "output_type": "execute_result"
    }
   ],
   "source": [
    "confusion_matrix(y_test, predictions)"
   ]
  },
  {
   "cell_type": "code",
   "execution_count": 45,
   "id": "impressed-treatment",
   "metadata": {},
   "outputs": [
    {
     "name": "stdout",
     "output_type": "stream",
     "text": [
      "              precision    recall  f1-score   support\n",
      "\n",
      "           0       0.94      0.92      0.93      1398\n",
      "           1       0.58      0.65      0.62       238\n",
      "\n",
      "    accuracy                           0.88      1636\n",
      "   macro avg       0.76      0.79      0.77      1636\n",
      "weighted avg       0.89      0.88      0.88      1636\n",
      "\n"
     ]
    }
   ],
   "source": [
    "print(classification_report(y_test, predictions))"
   ]
  },
  {
   "cell_type": "code",
   "execution_count": 46,
   "id": "photographic-encoding",
   "metadata": {},
   "outputs": [],
   "source": [
    "## We see whne using a complete dataset, teh model is better able to recognize the minority class without loosing too much \n",
    "## informaton from the majority class. But the low precision still shows that the model may be making too many false\n",
    "## predictions. "
   ]
  },
  {
   "cell_type": "code",
   "execution_count": 47,
   "id": "assisted-medline",
   "metadata": {},
   "outputs": [],
   "source": [
    "## Final model: Feed Forward Neural Network "
   ]
  },
  {
   "cell_type": "markdown",
   "id": "protective-cedar",
   "metadata": {},
   "source": [
    "## Feed Forward Neural Network - Classification"
   ]
  },
  {
   "cell_type": "code",
   "execution_count": 48,
   "id": "loving-thousand",
   "metadata": {},
   "outputs": [],
   "source": [
    "### Import model packages \n",
    "from keras.models import Sequential\n",
    "from keras.layers import Dense"
   ]
  },
  {
   "cell_type": "code",
   "execution_count": 49,
   "id": "small-humor",
   "metadata": {},
   "outputs": [],
   "source": [
    "### Creat model. \n",
    "def deep_learning_model():\n",
    "    model = Sequential()\n",
    "    model.add(Dense(120, input_dim=32, activation='relu'))\n",
    "    model.add(Dense(60, activation='relu'))\n",
    "    model.add(Dense(40, activation='relu'))\n",
    "    model.add(Dense(1, activation='sigmoid'))\n",
    "    ## Compile model\n",
    "    model.compile(loss='binary_crossentropy',\n",
    "                 optimizer='adam')\n",
    "    return model"
   ]
  },
  {
   "cell_type": "code",
   "execution_count": 50,
   "id": "recent-explosion",
   "metadata": {},
   "outputs": [
    {
     "name": "stdout",
     "output_type": "stream",
     "text": [
      "Model: \"sequential\"\n",
      "_________________________________________________________________\n",
      "Layer (type)                 Output Shape              Param #   \n",
      "=================================================================\n",
      "dense (Dense)                (None, 120)               3960      \n",
      "_________________________________________________________________\n",
      "dense_1 (Dense)              (None, 60)                7260      \n",
      "_________________________________________________________________\n",
      "dense_2 (Dense)              (None, 40)                2440      \n",
      "_________________________________________________________________\n",
      "dense_3 (Dense)              (None, 1)                 41        \n",
      "=================================================================\n",
      "Total params: 13,701\n",
      "Trainable params: 13,701\n",
      "Non-trainable params: 0\n",
      "_________________________________________________________________\n"
     ]
    }
   ],
   "source": [
    "test = deep_learning_model()\n",
    "test.summary()"
   ]
  },
  {
   "cell_type": "code",
   "execution_count": 51,
   "id": "informative-walker",
   "metadata": {},
   "outputs": [
    {
     "data": {
      "text/plain": [
       "(4905, 32)"
      ]
     },
     "execution_count": 51,
     "metadata": {},
     "output_type": "execute_result"
    }
   ],
   "source": [
    "X_train.shape"
   ]
  },
  {
   "cell_type": "code",
   "execution_count": 52,
   "id": "chinese-thailand",
   "metadata": {},
   "outputs": [
    {
     "data": {
      "text/plain": [
       "<tensorflow.python.keras.callbacks.History at 0x1cd48d2b5f8>"
      ]
     },
     "execution_count": 52,
     "metadata": {},
     "output_type": "execute_result"
    }
   ],
   "source": [
    "test.fit(X_train, y_train, epochs=100, verbose=1)"
   ]
  },
  {
   "cell_type": "code",
   "execution_count": 53,
   "id": "closed-space",
   "metadata": {},
   "outputs": [],
   "source": [
    "predictions = test.predict(X_test)"
   ]
  },
  {
   "cell_type": "code",
   "execution_count": 54,
   "id": "thirty-halifax",
   "metadata": {},
   "outputs": [
    {
     "data": {
      "text/plain": [
       "0.4117647058823529"
      ]
     },
     "execution_count": 54,
     "metadata": {},
     "output_type": "execute_result"
    }
   ],
   "source": [
    "from sklearn.metrics import recall_score, confusion_matrix, balanced_accuracy_score\n",
    "recall = recall_score(y_test, predictions.round())\n",
    "recall"
   ]
  },
  {
   "cell_type": "code",
   "execution_count": 55,
   "id": "acquired-twist",
   "metadata": {},
   "outputs": [
    {
     "data": {
      "text/plain": [
       "array([[1358,   40],\n",
       "       [ 140,   98]], dtype=int64)"
      ]
     },
     "execution_count": 55,
     "metadata": {},
     "output_type": "execute_result"
    }
   ],
   "source": [
    "matrix = confusion_matrix(y_test, predictions.round())\n",
    "matrix"
   ]
  },
  {
   "cell_type": "code",
   "execution_count": 56,
   "id": "understanding-wings",
   "metadata": {},
   "outputs": [
    {
     "data": {
      "text/plain": [
       "0.691576201295969"
      ]
     },
     "execution_count": 56,
     "metadata": {},
     "output_type": "execute_result"
    }
   ],
   "source": [
    "score = balanced_accuracy_score(y_test, predictions.round())\n",
    "score"
   ]
  },
  {
   "cell_type": "code",
   "execution_count": 59,
   "id": "english-attachment",
   "metadata": {},
   "outputs": [
    {
     "name": "stdout",
     "output_type": "stream",
     "text": [
      "              precision    recall  f1-score   support\n",
      "\n",
      "           0       0.91      0.97      0.94      1398\n",
      "           1       0.71      0.41      0.52       238\n",
      "\n",
      "    accuracy                           0.89      1636\n",
      "   macro avg       0.81      0.69      0.73      1636\n",
      "weighted avg       0.88      0.89      0.88      1636\n",
      "\n"
     ]
    }
   ],
   "source": [
    "from sklearn.metrics import classification_report\n",
    "class_report = classification_report(y_test, predictions.round())\n",
    "print(class_report)"
   ]
  },
  {
   "cell_type": "code",
   "execution_count": null,
   "id": "clear-fundamental",
   "metadata": {},
   "outputs": [],
   "source": []
  }
 ],
 "metadata": {
  "kernelspec": {
   "display_name": "Python 3",
   "language": "python",
   "name": "python3"
  },
  "language_info": {
   "codemirror_mode": {
    "name": "ipython",
    "version": 3
   },
   "file_extension": ".py",
   "mimetype": "text/x-python",
   "name": "python",
   "nbconvert_exporter": "python",
   "pygments_lexer": "ipython3",
   "version": "3.6.12"
  }
 },
 "nbformat": 4,
 "nbformat_minor": 5
}
